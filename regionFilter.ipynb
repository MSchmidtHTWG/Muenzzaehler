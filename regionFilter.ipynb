{
 "cells": [
  {
   "cell_type": "code",
   "execution_count": 12,
   "metadata": {},
   "outputs": [],
   "source": [
    "from skimage import io\n",
    "import numpy as np\n",
    "import matplotlib.image as mimg\n",
    "import cv2\n",
    "from skimage.color import rgb2gray"
   ]
  },
  {
   "cell_type": "code",
   "execution_count": 13,
   "metadata": {},
   "outputs": [],
   "source": [
    "def invertedBinaryImage(image):\n",
    "    img = image.copy()\n",
    "    shape = np.shape(img)\n",
    "    if len(shape) > 2:\n",
    "        if shape[2] > 3:\n",
    "            img = rgb2gray(img[:,:,0:3])*255\n",
    "        else:\n",
    "            img = rgb2gray(img)*255\n",
    "    b_img = np.zeros((shape[0], shape[1]))\n",
    "    for v in range(0, shape[0]):\n",
    "        for u in range(0, shape[1]):\n",
    "            if img[v][u] != 255:\n",
    "                b_img[v][u] = 1\n",
    "    return b_img"
   ]
  },
  {
   "cell_type": "code",
   "execution_count": 22,
   "metadata": {},
   "outputs": [],
   "source": [
    "def discreteContrast(filteredImage):\n",
    "    shape = np.shape(filteredImage)\n",
    "    img = filteredImage.copy()\n",
    "    valueList = np.unique(img)\n",
    "    valueDict = dict()\n",
    "    for i in range(0, len(valueList)):\n",
    "        valueDict.update({valueList[i] : i})\n",
    "    for v in range(shape[0]):\n",
    "        for u in range(shape[1]):\n",
    "            img[v][u] = valueDict.get(filteredImage[v][u])\n",
    "    return img"
   ]
  },
  {
   "cell_type": "code",
   "execution_count": 14,
   "metadata": {},
   "outputs": [],
   "source": [
    "def invBiImg(img):\n",
    "    ret_img = img.copy()\n",
    "    shape = np.shape(img)\n",
    "    b_img = np.ones((shape[0], shape[1]))\n",
    "    for v in range(0, shape[0]):\n",
    "        for u in range(0, shape[1]):\n",
    "            if img[v][u] == 0:\n",
    "                pass"
   ]
  },
  {
   "cell_type": "code",
   "execution_count": 15,
   "metadata": {},
   "outputs": [],
   "source": [
    "def labelForeGround(image):\n",
    "    img = rgb2gray(image)\n",
    "    shape = np.shape(img)\n",
    "    b_img = np.zeros((shape[0], shape[1]))\n",
    "    for v in range(0, shape[0]):\n",
    "        for u in range(0, shape[1]):\n",
    "            if img[v][u] != 0:\n",
    "                b_img[v][u] = 1\n",
    "    return b_img"
   ]
  },
  {
   "cell_type": "code",
   "execution_count": 16,
   "metadata": {},
   "outputs": [],
   "source": [
    "def invert(image):\n",
    "    img = image.copy()\n",
    "    img = (img * -1) + np.amax(image)\n",
    "    return img"
   ]
  },
  {
   "cell_type": "code",
   "execution_count": 17,
   "metadata": {},
   "outputs": [],
   "source": [
    "def labeledNeighbors(image, x, y, n=8):\n",
    "    nbrs = list()\n",
    "    if x - 1 >= 0 and image[y][x-1] > 1:\n",
    "        nbrs.append((x-1, y))\n",
    "    if n == 4:\n",
    "        if y - 1 >= 0 and image[y-1][x] > 1:\n",
    "            nbrs.append((x, y-1))\n",
    "        return nbrs\n",
    "    r = -1\n",
    "    v = 2\n",
    "    if x - 1 < 0:\n",
    "        r = 0\n",
    "    if x + 1 >= np.shape(image)[1]:\n",
    "        v = 1\n",
    "    if y - 1 >= 0:\n",
    "        for i in range(r, v):\n",
    "            if image[y-1][x+i] > 1:\n",
    "                nbrs.append((x+i, y-1))\n",
    "    return nbrs"
   ]
  },
  {
   "cell_type": "code",
   "execution_count": 20,
   "metadata": {},
   "outputs": [],
   "source": [
    "def sequentialLabeling(image, n=8):\n",
    "    # img = invertedBinaryImage(image)\n",
    "    img = image.copy()\n",
    "    m = 2\n",
    "    c = list()\n",
    "    for v in range(0, np.shape(img)[0]):\n",
    "        for u in range(0, np.shape(img)[1]):\n",
    "            if img[v][u] == 1:\n",
    "                nbrs = labeledNeighbors(img, u, v, n)\n",
    "                if len(nbrs) == 0:\n",
    "                    img[v][u] = m\n",
    "                    m = m + 1\n",
    "                elif len(nbrs) == 1:\n",
    "                    p = nbrs[0]\n",
    "                    img[v][u] = img[p[1]][p[0]]\n",
    "                elif len(nbrs) > 1:\n",
    "                    p = nbrs.pop(0)\n",
    "                    k = img[p[1]][p[0]]\n",
    "                    img[v][u] = k\n",
    "                    for p in nbrs:\n",
    "                        ni = img[p[1]][p[0]]\n",
    "                        if ni != k:\n",
    "                            c.append({ni, k})\n",
    "    \n",
    "    r = list()\n",
    "    for i in range(2, m):\n",
    "        r.append({i})\n",
    "    \n",
    "    for collisions in c:\n",
    "        a = collisions.pop()\n",
    "        b = collisions.pop()\n",
    "        for labelsets in r:\n",
    "            if labelsets.issuperset({a}):\n",
    "                ra = labelsets\n",
    "            if labelsets.issuperset({b}):\n",
    "                rb = labelsets\n",
    "        if ra.isdisjoint(rb):\n",
    "            ra.update(rb)\n",
    "            r.remove(rb)\n",
    "    \n",
    "    for v in range(0, np.shape(img)[0]):\n",
    "        for u in range(0, np.shape(img)[1]):\n",
    "            if img[v][u] > 1:\n",
    "                for lsets in r:\n",
    "                    if lsets.issuperset({img[v][u]}):\n",
    "                        img[v][u] = min(lsets)\n",
    "    return invert(img)"
   ]
  },
  {
   "cell_type": "code",
   "execution_count": 26,
   "metadata": {},
   "outputs": [],
   "source": [
    "def countAreaSize(sql_img):\n",
    "    valueList, count = np.unique(sql_img, return_counts=True)\n",
    "    return valueList[0:len(valueList)-1], count[0:len(count)-1]"
   ]
  },
  {
   "cell_type": "code",
   "execution_count": 23,
   "metadata": {},
   "outputs": [
    {
     "name": "stderr",
     "output_type": "stream",
     "text": [
      "Lossy conversion from float64 to uint8. Range [0, 1]. Convert image to uint8 prior to saving to suppress this warning.\n",
      "Lossy conversion from float64 to uint8. Range [0.0, 3.0]. Convert image to uint8 prior to saving to suppress this warning.\n"
     ]
    }
   ],
   "source": [
    "img = io.imread('0.png')\n",
    "bimg = labelForeGround(img)\n",
    "sql = discreteContrast(sequentialLabeling(bimg))\n",
    "io.imsave('binarytest.png', bimg)\n",
    "io.imsave('labeledtest.png', sql)"
   ]
  },
  {
   "cell_type": "code",
   "execution_count": 27,
   "metadata": {},
   "outputs": [
    {
     "name": "stdout",
     "output_type": "stream",
     "text": [
      "(array([0., 1., 2.]), array([4670, 3862, 2951], dtype=int64))\n"
     ]
    }
   ],
   "source": [
    "print(countAreaSize(sql))"
   ]
  }
 ],
 "metadata": {
  "interpreter": {
   "hash": "ad8259fb0131ae414e0fed75b17e89163033ec83dd8a20ff234b9709c1123196"
  },
  "kernelspec": {
   "display_name": "Python 3.9.4 64-bit",
   "language": "python",
   "name": "python3"
  },
  "language_info": {
   "codemirror_mode": {
    "name": "ipython",
    "version": 3
   },
   "file_extension": ".py",
   "mimetype": "text/x-python",
   "name": "python",
   "nbconvert_exporter": "python",
   "pygments_lexer": "ipython3",
   "version": "3.9.4"
  },
  "orig_nbformat": 4
 },
 "nbformat": 4,
 "nbformat_minor": 2
}
