{
 "cells": [
  {
   "cell_type": "code",
   "execution_count": 19,
   "metadata": {},
   "outputs": [],
   "source": [
    "from skimage import io\n",
    "import numpy as np\n",
    "import matplotlib.image as mimg\n",
    "import cv2\n",
    "from skimage.color import rgb2gray\n",
    "import sys"
   ]
  },
  {
   "cell_type": "code",
   "execution_count": 20,
   "metadata": {},
   "outputs": [],
   "source": [
    "def invertedBinaryImage(image):\n",
    "    img = image.copy()\n",
    "    shape = np.shape(img)\n",
    "    if len(shape) > 2:\n",
    "        if shape[2] > 3:\n",
    "            img = rgb2gray(img[:,:,0:3])*255\n",
    "        else:\n",
    "            img = rgb2gray(img)*255\n",
    "    b_img = np.zeros((shape[0], shape[1]))\n",
    "    for v in range(0, shape[0]):\n",
    "        for u in range(0, shape[1]):\n",
    "            if img[v][u] != 255:\n",
    "                b_img[v][u] = 1\n",
    "    return b_img"
   ]
  },
  {
   "cell_type": "code",
   "execution_count": 21,
   "metadata": {},
   "outputs": [],
   "source": [
    "def discreteContrast(filteredImage):\n",
    "    shape = np.shape(filteredImage)\n",
    "    img = filteredImage.copy()\n",
    "    valueList = np.unique(img)\n",
    "    valueDict = dict()\n",
    "    for i in range(0, len(valueList)):\n",
    "        valueDict.update({valueList[i] : i})\n",
    "    for v in range(shape[0]):\n",
    "        for u in range(shape[1]):\n",
    "            img[v][u] = valueDict.get(filteredImage[v][u])\n",
    "    return img"
   ]
  },
  {
   "cell_type": "code",
   "execution_count": 22,
   "metadata": {},
   "outputs": [],
   "source": [
    "def invBiImg(img):\n",
    "    ret_img = img.copy()\n",
    "    shape = np.shape(img)\n",
    "    b_img = np.ones((shape[0], shape[1]))\n",
    "    for v in range(0, shape[0]):\n",
    "        for u in range(0, shape[1]):\n",
    "            if img[v][u] == 0:\n",
    "                pass"
   ]
  },
  {
   "cell_type": "code",
   "execution_count": 23,
   "metadata": {},
   "outputs": [],
   "source": [
    "def labelForeGround(image):\n",
    "    img = rgb2gray(image)\n",
    "    shape = np.shape(img)\n",
    "    b_img = np.zeros((shape[0], shape[1]))\n",
    "    for v in range(0, shape[0]):\n",
    "        for u in range(0, shape[1]):\n",
    "            if img[v][u] != 0:\n",
    "                b_img[v][u] = 1\n",
    "    return b_img"
   ]
  },
  {
   "cell_type": "code",
   "execution_count": 24,
   "metadata": {},
   "outputs": [],
   "source": [
    "def invert(image):\n",
    "    img = image.copy()\n",
    "    img = (img * -1) + np.amax(image)\n",
    "    return img"
   ]
  },
  {
   "cell_type": "code",
   "execution_count": 25,
   "metadata": {},
   "outputs": [],
   "source": [
    "def labeledNeighbors(image, x, y, n=8):\n",
    "    nbrs = list()\n",
    "    if x - 1 >= 0 and image[y][x-1] > 1:\n",
    "        nbrs.append((x-1, y))\n",
    "    if n == 4:\n",
    "        if y - 1 >= 0 and image[y-1][x] > 1:\n",
    "            nbrs.append((x, y-1))\n",
    "        return nbrs\n",
    "    r = -1\n",
    "    v = 2\n",
    "    if x - 1 < 0:\n",
    "        r = 0\n",
    "    if x + 1 >= np.shape(image)[1]:\n",
    "        v = 1\n",
    "    if y - 1 >= 0:\n",
    "        for i in range(r, v):\n",
    "            if image[y-1][x+i] > 1:\n",
    "                nbrs.append((x+i, y-1))\n",
    "    return nbrs"
   ]
  },
  {
   "cell_type": "code",
   "execution_count": 26,
   "metadata": {},
   "outputs": [],
   "source": [
    "def sequentialLabeling(image, n=8):\n",
    "    # img = invertedBinaryImage(image)\n",
    "    img = image.copy()\n",
    "    m = 2\n",
    "    c = list()\n",
    "    for v in range(0, np.shape(img)[0]):\n",
    "        for u in range(0, np.shape(img)[1]):\n",
    "            if img[v][u] == 1:\n",
    "                nbrs = labeledNeighbors(img, u, v, n)\n",
    "                if len(nbrs) == 0:\n",
    "                    img[v][u] = m\n",
    "                    m = m + 1\n",
    "                elif len(nbrs) == 1:\n",
    "                    p = nbrs[0]\n",
    "                    img[v][u] = img[p[1]][p[0]]\n",
    "                elif len(nbrs) > 1:\n",
    "                    p = nbrs.pop(0)\n",
    "                    k = img[p[1]][p[0]]\n",
    "                    img[v][u] = k\n",
    "                    for p in nbrs:\n",
    "                        ni = img[p[1]][p[0]]\n",
    "                        if ni != k:\n",
    "                            c.append({ni, k})\n",
    "    \n",
    "    r = list()\n",
    "    for i in range(2, m):\n",
    "        r.append({i})\n",
    "    \n",
    "    for collisions in c:\n",
    "        a = collisions.pop()\n",
    "        b = collisions.pop()\n",
    "        for labelsets in r:\n",
    "            if labelsets.issuperset({a}):\n",
    "                ra = labelsets\n",
    "            if labelsets.issuperset({b}):\n",
    "                rb = labelsets\n",
    "        if ra.isdisjoint(rb):\n",
    "            ra.update(rb)\n",
    "            r.remove(rb)\n",
    "    \n",
    "    for v in range(0, np.shape(img)[0]):\n",
    "        for u in range(0, np.shape(img)[1]):\n",
    "            if img[v][u] > 1:\n",
    "                for lsets in r:\n",
    "                    if lsets.issuperset({img[v][u]}):\n",
    "                        img[v][u] = min(lsets)\n",
    "    return invert(img)"
   ]
  },
  {
   "cell_type": "code",
   "execution_count": 40,
   "metadata": {},
   "outputs": [],
   "source": [
    "def countAreaSize(sql_img):\n",
    "    valueList, count, indices = np.unique(sql_img, return_counts=True, return_inverse=True)\n",
    "    return valueList[0:len(valueList)], count[0:len(count)], indices[0:len(indices)]"
   ]
  },
  {
   "cell_type": "code",
   "execution_count": 36,
   "metadata": {},
   "outputs": [],
   "source": [
    "def process(filename):\n",
    "    img = io.imread(filename)\n",
    "    bimg = labelForeGround(img)\n",
    "    sql = discreteContrast(sequentialLabeling(bimg))\n",
    "    labels, indices, counts = countAreaSize(sql)\n",
    "    return removeClutter(counts)"
   ]
  },
  {
   "cell_type": "code",
   "execution_count": 37,
   "metadata": {},
   "outputs": [],
   "source": [
    "def removeClutter(array, threshold=1000):\n",
    "    ret = []\n",
    "    for i in array:\n",
    "        if i > threshold:\n",
    "            ret.append(i)\n",
    "    return ret"
   ]
  },
  {
   "cell_type": "code",
   "execution_count": 42,
   "metadata": {},
   "outputs": [],
   "source": [
    "def regionSizeAndTone(labeledImage, colorImage):\n",
    "    shape = np.shape(labeledImage)\n",
    "    hsvImg = cv2.cvtColor(colorImage, cv2.COLOR_BGR2HSV)\n",
    "    valueList, count = np.unique(labeledImage, return_counts=True)\n",
    "    colorList = []\n",
    "    for label in valueList:\n",
    "        color = []\n",
    "        for v in range(0, np.shape(img)[0]):\n",
    "            for u in range(0, np.shape(img)[1]):\n",
    "                if labeledImage[v][u] == label:\n",
    "                    color.append(hsvImg[v][u][0])\n",
    "        colorList.append(np.mean(color))\n",
    "    return valueList, count, colorList"
   ]
  },
  {
   "cell_type": "code",
   "execution_count": 52,
   "metadata": {},
   "outputs": [],
   "source": [
    "def regionSizeAndTone2():\n",
    "    names = ['2Euro', '20Cent', '2Cent']\n",
    "    size = 6\n",
    "    sizeAndToneDict = dict()\n",
    "    for n in names:\n",
    "        mi  = sys.maxsize\n",
    "        mx = 0\n",
    "        color = []\n",
    "        for i in range(0, size):\n",
    "            labeledImage = sequentialLabeling(labelForeGround(io.imread(f'reference/highContrast/{n}{i}.png')))\n",
    "            valueList, counts = np.unique(labeledImage, return_counts=True)\n",
    "            count = np.max(removeClutter(counts[0:len(counts)-1]))\n",
    "            colorImage = io.imread(f'reference/lowContrast/{n}{i}.png')\n",
    "            hsvImg = cv2.cvtColor(colorImage, cv2.COLOR_BGR2HSV)\n",
    "            shape = np.shape(labeledImage)\n",
    "            for label in valueList:\n",
    "                for v in range(0, np.shape(img)[0]):\n",
    "                    for u in range(0, np.shape(img)[1]):\n",
    "                        if labeledImage[v][u] == label:\n",
    "                            color.append(hsvImg[v][u][0])\n",
    "            if count <= mi:\n",
    "                mi = count\n",
    "            if count >= mx:\n",
    "                mx = count\n",
    "        sizeAndToneDict.update({n : (mi, mx, np.mean(color))})\n",
    "    return sizeAndToneDict"
   ]
  },
  {
   "cell_type": "code",
   "execution_count": null,
   "metadata": {},
   "outputs": [],
   "source": [
    "# nehme high und low contrast auf\n",
    "# regionen filter auf high\n",
    "## labelforeground\n",
    "## sql\n",
    "# für jede region farbe aus low ziehen und area size der region\n",
    "# liste von tupeln(regiongröße, regionfarbe)\n"
   ]
  },
  {
   "cell_type": "code",
   "execution_count": 53,
   "metadata": {},
   "outputs": [
    {
     "name": "stdout",
     "output_type": "stream",
     "text": [
      "{'2Euro': (4449, 4873, 16.42557074652778), '20Cent': (3526, 3770, 42.90342447916667), '2Cent': (2445, 2598, 61.329631076388885)}\n"
     ]
    }
   ],
   "source": [
    "print(regionSizeAndTone2())"
   ]
  },
  {
   "cell_type": "code",
   "execution_count": null,
   "metadata": {},
   "outputs": [],
   "source": [
    "def referenceValues():\n",
    "    coinDict = dict()\n",
    "    names = ['2Euro', '1Euro', '50Cent', '20Cent', '10Cent', '5Cent', '2Cent', '1Cent']\n",
    "    for n in names:\n",
    "        mi  = sys.maxsize\n",
    "        mx = 0\n",
    "        for i in range(0,5):\n",
    "            filename = f'reference/highContrast/{n}{i}.png'\n",
    "            image = Coinimage(io.imread(filename))\n",
    "            image = image.highContrastToBinary()\n",
    "            image = image.sequentialLabeling()\n",
    "            labels, counts = image.countAreaSize()\n",
    "            count = np.max(counts)\n",
    "            if count <= mi:\n",
    "                mi = count\n",
    "            if count >= mx:\n",
    "                mx = count\n",
    "        coinDict.update({n : (mi, mx)})\n",
    "    return coinDict"
   ]
  },
  {
   "cell_type": "code",
   "execution_count": 45,
   "metadata": {},
   "outputs": [
    {
     "name": "stdout",
     "output_type": "stream",
     "text": [
      "[0. 2.]\n",
      "[  4490 302710]\n",
      "[107.20489977728285, 101.78076046381025]\n"
     ]
    }
   ],
   "source": [
    "labeledImage = sequentialLabeling(labelForeGround(io.imread('test4hc.png')))\n",
    "colorImage = io.imread('test4lc.png')\n",
    "valueList, count, colorList = regionSizeAndTone(labeledImage, colorImage)\n",
    "print(valueList)\n",
    "print(count)\n",
    "print(colorList)"
   ]
  },
  {
   "cell_type": "code",
   "execution_count": 41,
   "metadata": {},
   "outputs": [
    {
     "name": "stdout",
     "output_type": "stream",
     "text": [
      "[ 0.  1.  2.  3.  4.  5.  6.  7.  8.  9. 10. 11. 12. 13. 14. 15. 16. 17.\n",
      " 18. 19. 20. 21. 22. 23. 24. 25. 26. 27. 28. 29. 30. 31. 32. 33. 34. 35.\n",
      " 36. 37. 38.]\n",
      "[37 37 37 ... 38 38 38]\n",
      "[  4953      2      1     15      6      1      3      1      6      2\n",
      "      1      1      2      2      5      3      2      2      2      1\n",
      "      1      1      6      3      1      4      1     14     12      1\n",
      "     30      3      1      1     23      2      1      5 302079]\n"
     ]
    }
   ],
   "source": [
    "img = io.imread('highcontrast/2Euro0.png')\n",
    "img = labelForeGround(img)\n",
    "img = sequentialLabeling(img)\n",
    "img = discreteContrast(img)\n",
    "labels, indices, counts = countAreaSize(img)\n",
    "print(labels)\n",
    "print(indices)\n",
    "print(counts)"
   ]
  },
  {
   "cell_type": "code",
   "execution_count": 38,
   "metadata": {},
   "outputs": [
    {
     "name": "stdout",
     "output_type": "stream",
     "text": [
      "2Euro\n",
      "(4462, 5089)\n",
      "1Euro\n",
      "(3758, 4228)\n",
      "20Cent\n",
      "(3399, 3883)\n",
      "10Cent\n",
      "(2698, 3041)\n",
      "5Cent\n",
      "(3254, 3601)\n"
     ]
    }
   ],
   "source": [
    "coinDict = dict()\n",
    "mi  = 10000\n",
    "mx = 0\n",
    "names = ['2Euro', '1Euro', '20Cent', '10Cent', '5Cent']\n",
    "for n in names:\n",
    "    mi  = 10000\n",
    "    mx = 0\n",
    "    for i in range(0,5):\n",
    "        filename = f'highcontrast/{n}{i}.png'\n",
    "        # labels, counts, indices = process(filename)\n",
    "        # pi = removeClutter(counts)\n",
    "        pi = process(filename)\n",
    "        for p in pi:\n",
    "            if p <= mi:\n",
    "                mi = p\n",
    "            if p >= mx:\n",
    "                mx = p\n",
    "    coinDict.update({n : (mi, mx)})\n",
    "for c in coinDict:\n",
    "    print(c)\n",
    "    print(coinDict.get(c))\n",
    "    "
   ]
  },
  {
   "cell_type": "code",
   "execution_count": 19,
   "metadata": {},
   "outputs": [
    {
     "name": "stdout",
     "output_type": "stream",
     "text": [
      "highcontrast/2Euro0.png\n",
      "[4953]\n",
      "highcontrast/2Euro1.png\n",
      "[5089]\n",
      "highcontrast/2Euro2.png\n",
      "[4856]\n",
      "highcontrast/2Euro3.png\n",
      "[4462]\n",
      "highcontrast/2Euro4.png\n",
      "[4630]\n",
      "highcontrast/1Euro0.png\n",
      "[4182]\n",
      "highcontrast/1Euro1.png\n",
      "[4228]\n",
      "highcontrast/1Euro2.png\n",
      "[4113]\n",
      "highcontrast/1Euro3.png\n",
      "[3758]\n",
      "highcontrast/1Euro4.png\n",
      "[3902]\n",
      "highcontrast/20Cent0.png\n",
      "[3883]\n",
      "highcontrast/20Cent1.png\n",
      "[3873]\n",
      "highcontrast/20Cent2.png\n",
      "[3740]\n",
      "highcontrast/20Cent3.png\n",
      "[3399]\n",
      "highcontrast/20Cent4.png\n",
      "[3505]\n",
      "highcontrast/10Cent0.png\n",
      "[3037]\n",
      "highcontrast/10Cent1.png\n",
      "[3041]\n",
      "highcontrast/10Cent2.png\n",
      "[2976]\n",
      "highcontrast/10Cent3.png\n",
      "[2698]\n",
      "highcontrast/10Cent4.png\n",
      "[2795]\n",
      "highcontrast/5Cent0.png\n",
      "[3578]\n",
      "highcontrast/5Cent1.png\n",
      "[3601]\n",
      "highcontrast/5Cent2.png\n",
      "[3485]\n",
      "highcontrast/5Cent3.png\n",
      "[3254]\n",
      "highcontrast/5Cent4.png\n",
      "[3379]\n"
     ]
    }
   ],
   "source": [
    "names = ['2Euro', '1Euro', '20Cent', '10Cent', '5Cent']\n",
    "for n in names:\n",
    "    for i in range(0,5):\n",
    "        filename = f'highcontrast/{n}{i}.png'\n",
    "        print(filename)\n",
    "        print(process(filename))\n",
    "    "
   ]
  }
 ],
 "metadata": {
  "interpreter": {
   "hash": "ad8259fb0131ae414e0fed75b17e89163033ec83dd8a20ff234b9709c1123196"
  },
  "kernelspec": {
   "display_name": "Python 3.9.4 64-bit",
   "language": "python",
   "name": "python3"
  },
  "language_info": {
   "codemirror_mode": {
    "name": "ipython",
    "version": 3
   },
   "file_extension": ".py",
   "mimetype": "text/x-python",
   "name": "python",
   "nbconvert_exporter": "python",
   "pygments_lexer": "ipython3",
   "version": "3.9.4"
  },
  "orig_nbformat": 4
 },
 "nbformat": 4,
 "nbformat_minor": 2
}
