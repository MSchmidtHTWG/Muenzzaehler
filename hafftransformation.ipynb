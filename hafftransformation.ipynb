{
 "cells": [
  {
   "cell_type": "code",
   "execution_count": null,
   "metadata": {
    "collapsed": false,
    "pycharm": {
     "name": "#%%\n"
    }
   },
   "outputs": [],
   "source": [
    "from lib import Coinimage\n",
    "from skimage import io\n",
    "import numpy as np\n",
    "import cv2 as cv"
   ]
  },
  {
   "cell_type": "code",
   "execution_count": null,
   "metadata": {
    "collapsed": false,
    "pycharm": {
     "name": "#%%\n"
    }
   },
   "outputs": [],
   "source": [
    "image = cv.imread('./testimages/tmp.png', cv.IMREAD_COLOR)\n",
    "#coin = Coinimage()\n",
    "#image = cv2.cvtColor(image, cv2.COLOR_BGR2HSV)\n",
    "res = cv.GaussianBlur(image, (9, 9), 0)\n",
    "io.imshow(res)"
   ]
  },
  {
   "cell_type": "code",
   "execution_count": null,
   "metadata": {
    "collapsed": false,
    "pycharm": {
     "name": "#%%\n"
    }
   },
   "outputs": [],
   "source": [
    "res = cv.bilateralFilter(image, 9, 75, 75)\n",
    "io.imshow(res)"
   ]
  },
  {
   "cell_type": "code",
   "execution_count": null,
   "metadata": {
    "collapsed": false,
    "pycharm": {
     "name": "#%%\n"
    }
   },
   "outputs": [],
   "source": [
    "grey = cv.cvtColor(image, cv.COLOR_BGR2GRAY)\n",
    "ret, thresh = cv.threshold(grey, 100, 255, cv.THRESH_BINARY)\n",
    "# detect the contours on the binary image using cv2.CHAIN_APPROX_NONE\n",
    "contours, hierarchy = cv.findContours(image=thresh, mode=cv.RETR_TREE, method=cv.CHAIN_APPROX_NONE)\n",
    "\n",
    "# draw contours on the original image\n",
    "image_copy = image.copy()\n",
    "cv.drawContours(image=image_copy, contours=contours, contourIdx=-1, color=(0, 255, 0), thickness=2, lineType=cv.LINE_AA)\n",
    "\n",
    "# see the results\n",
    "cv.imshow('None approximation', image_copy)\n",
    "io.imshow(image_copy)"
   ]
  },
  {
   "cell_type": "markdown",
   "metadata": {
    "collapsed": false,
    "pycharm": {
     "name": "#%% md\n"
    }
   },
   "source": [
    "# Ansatz zur verwendung der Hafftransformation"
   ]
  },
  {
   "cell_type": "code",
   "execution_count": null,
   "metadata": {
    "collapsed": false,
    "pycharm": {
     "name": "#%%\n"
    }
   },
   "outputs": [],
   "source": [
    "image = cv.imread('./testimages/0.png', cv.IMREAD_COLOR)\n",
    "gray = cv.cvtColor(image, cv.COLOR_BGR2GRAY)\n",
    "src = image.copy()\n",
    "\n",
    "blured = cv.medianBlur(gray, 5)\n",
    "\n",
    "rows = gray.shape[0]"
   ]
  },
  {
   "cell_type": "code",
   "execution_count": null,
   "metadata": {
    "collapsed": false,
    "pycharm": {
     "name": "#%%\n"
    }
   },
   "outputs": [],
   "source": [
    "circles = cv.HoughCircles(gray, cv.HOUGH_GRADIENT, 1, rows / 8, param1=100, param2=30, minRadius=10)"
   ]
  },
  {
   "cell_type": "code",
   "execution_count": null,
   "metadata": {
    "collapsed": false,
    "pycharm": {
     "name": "#%%\n"
    }
   },
   "outputs": [],
   "source": [
    "if circles is not None:\n",
    "    circles = np.uint16(np.around(circles))\n",
    "    for i in circles[0, :]:\n",
    "        print(f\"x={i[0]}, y={i[1]}, radius={i[2]}\")\n",
    "        center = (i[0], i[1])\n",
    "        # circle center\n",
    "        cv.circle(src, center, 1, (0, 100, 100), 3)\n",
    "        # circle outline\n",
    "        radius = i[2]\n",
    "        cv.circle(src, center, radius, (255, 0, 255), 3)\n",
    "\n",
    "io.imshow(src)"
   ]
  },
  {
   "cell_type": "markdown",
   "metadata": {
    "collapsed": false,
    "pycharm": {
     "name": "#%% md\n"
    }
   },
   "source": [
    "## bestimmung der durchschnittsfarbe"
   ]
  },
  {
   "cell_type": "code",
   "execution_count": null,
   "metadata": {
    "collapsed": false,
    "pycharm": {
     "name": "#%%\n"
    }
   },
   "outputs": [],
   "source": [
    "def swapAxis(circles) -> np.array:\n",
    "    swapedAxes = []\n",
    "    for element in circles:\n",
    "        element = element[0]\n",
    "        swapedAxes.append((element[1], element[0], element[2]))\n",
    "    return np.array(swapedAxes)\n",
    "\n",
    "\n",
    "def getMinSquare(circle) -> (int, int, int, int):\n",
    "    return circle[0] - circle[2], circle[0] + circle[2], circle[1] - circle[2], circle[1] + circle[2]\n",
    "\n",
    "\n",
    "def getCoinOnly(circle, image)-> np.array:\n",
    "    result = []\n",
    "    circleX = circle[0]\n",
    "    circleY = circle[1]\n",
    "    radius = circle[2]\n",
    "    xMin, xMax, yMin, yMax = getMinSquare(circle)\n",
    "    for x in range(xMin, xMax):\n",
    "        for y in range(yMin, yMax):\n",
    "            dx = x - circleX\n",
    "            dy = y - circleY\n",
    "            squareDistance = dx**2+dy**2\n",
    "            if squareDistance <= radius**2:\n",
    "                result.append(image[x,y])\n",
    "    return np.array(result)\n",
    "\n",
    "\n",
    "med = getCoinOnly(circle, image)\n",
    "med\n",
    "#tmp = swapAxis(circles)\n",
    "#xMin, xMax, yMin, yMax = getMinSquare(tmp[0])\n",
    "#io.imshow(image[xMin:xMax, yMin:yMax])"
   ]
  },
  {
   "cell_type": "code",
   "execution_count": null,
   "metadata": {
    "collapsed": false,
    "pycharm": {
     "name": "#%%\n"
    }
   },
   "outputs": [],
   "source": [
    "circle = circles[0]\n",
    "#               y         x\n",
    "coin = image[210:314, 314:416]  # hier ist x und y vertauscht warum?\n",
    "io.imshow(coin)"
   ]
  }
 ],
 "metadata": {
  "kernelspec": {
   "display_name": "Python 3",
   "language": "python",
   "name": "python3"
  },
  "language_info": {
   "codemirror_mode": {
    "name": "ipython",
    "version": 2
   },
   "file_extension": ".py",
   "mimetype": "text/x-python",
   "name": "python",
   "nbconvert_exporter": "python",
   "pygments_lexer": "ipython2",
   "version": "2.7.6"
  }
 },
 "nbformat": 4,
 "nbformat_minor": 0
}
