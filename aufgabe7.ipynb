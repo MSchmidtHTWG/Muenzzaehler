{
 "cells": [
  {
   "cell_type": "code",
   "execution_count": 32,
   "metadata": {},
   "outputs": [],
   "source": [
    "from skimage import io\n",
    "import numpy as np\n",
    "import matplotlib.image as mimg\n",
    "import cv2\n",
    "from skimage.color import rgb2gray"
   ]
  },
  {
   "cell_type": "code",
   "execution_count": 33,
   "metadata": {},
   "outputs": [],
   "source": [
    "def discreteContrast(filteredImage):\n",
    "    shape = np.shape(filteredImage)\n",
    "    img = filteredImage.copy()\n",
    "    valueList = np.unique(img)\n",
    "    valueDict = dict()\n",
    "    for i in range(0, len(valueList)):\n",
    "        valueDict.update({valueList[i] : i})\n",
    "    for v in range(shape[0]):\n",
    "        for u in range(shape[1]):\n",
    "            img[v][u] = valueDict.get(filteredImage[v][u])\n",
    "    return img"
   ]
  },
  {
   "cell_type": "code",
   "execution_count": 34,
   "metadata": {},
   "outputs": [],
   "source": [
    "def invertedBinaryImage(image):\n",
    "    img = image.copy()\n",
    "    shape = np.shape(img)\n",
    "    if len(shape) > 2:\n",
    "        if shape[2] > 3:\n",
    "            img = rgb2gray(img[:,:,0:3])*255\n",
    "        else:\n",
    "            img = rgb2gray(img)*255\n",
    "    b_img = np.zeros((shape[0], shape[1]))\n",
    "    for v in range(0, shape[0]):\n",
    "        for u in range(0, shape[1]):\n",
    "            if img[v][u] != 255:\n",
    "                b_img[v][u] = 1\n",
    "    return b_img"
   ]
  },
  {
   "cell_type": "code",
   "execution_count": 35,
   "metadata": {},
   "outputs": [],
   "source": [
    "def invertedBinaryImage2(image):\n",
    "    ret, converted = cv2.threshold(image, 1, 1, cv2.THRESH_BINARY)\n",
    "    return invert(converted)"
   ]
  },
  {
   "cell_type": "code",
   "execution_count": 36,
   "metadata": {},
   "outputs": [],
   "source": [
    "def invert(image):\n",
    "    img = image.copy()\n",
    "    img = (img * -1) + np.amax(image)\n",
    "    return img"
   ]
  },
  {
   "cell_type": "code",
   "execution_count": 37,
   "metadata": {},
   "outputs": [],
   "source": [
    "def labeledNeighbors(image, x, y, n=8):\n",
    "    nbrs = list()\n",
    "    if x - 1 >= 0 and image[y][x-1] > 1:\n",
    "        nbrs.append((x-1, y))\n",
    "    if n == 4:\n",
    "        if y - 1 >= 0 and image[y-1][x] > 1:\n",
    "            nbrs.append((x, y-1))\n",
    "        return nbrs\n",
    "    r = -1\n",
    "    v = 2\n",
    "    if x - 1 < 0:\n",
    "        r = 0\n",
    "    if x + 1 >= np.shape(image)[1]:\n",
    "        v = 1\n",
    "    if y - 1 >= 0:\n",
    "        for i in range(r, v):\n",
    "            if image[y-1][x+i] > 1:\n",
    "                nbrs.append((x+i, y-1))\n",
    "    return nbrs"
   ]
  },
  {
   "cell_type": "code",
   "execution_count": 38,
   "metadata": {},
   "outputs": [],
   "source": [
    "def zeroNeighbors(image, x, y):\n",
    "    shape = np.shape(image)\n",
    "    r = -1\n",
    "    v = 2\n",
    "    if y - 1 < 0 and x - 1 < 0:\n",
    "        return True\n",
    "    if x - 1 < 0:\n",
    "        r = 0\n",
    "    if r == -1 and image[y][x-1] > 0:\n",
    "        return False\n",
    "    if x + 1 >= shape[1]:\n",
    "        v = 1\n",
    "    if y - 1 < 0:\n",
    "        return True\n",
    "    for i in range(r, v):\n",
    "        if image[y-1][x+i] > 0:\n",
    "            return False\n",
    "    return True"
   ]
  },
  {
   "cell_type": "code",
   "execution_count": 41,
   "metadata": {},
   "outputs": [],
   "source": [
    "def sequentialLabeling(image, n=8):\n",
    "    img = invertedBinaryImage(image)\n",
    "    m = 2\n",
    "    c = list()\n",
    "    for v in range(0, np.shape(img)[0]):\n",
    "        for u in range(0, np.shape(img)[1]):\n",
    "            if img[v][u] == 1:\n",
    "                nbrs = labeledNeighbors(img, u, v, n)\n",
    "                if len(nbrs) == 0:\n",
    "                    img[v][u] = m\n",
    "                    m = m + 1\n",
    "                elif len(nbrs) == 1:\n",
    "                    p = nbrs[0]\n",
    "                    img[v][u] = img[p[1]][p[0]]\n",
    "                elif len(nbrs) > 1:\n",
    "                    p = nbrs.pop(0)\n",
    "                    k = img[p[1]][p[0]]\n",
    "                    img[v][u] = k\n",
    "                    for p in nbrs:\n",
    "                        ni = img[p[1]][p[0]]\n",
    "                        if ni != k:\n",
    "                            c.append({ni, k})\n",
    "    \n",
    "    r = list()\n",
    "    for i in range(2, m):\n",
    "        r.append({i})\n",
    "    \n",
    "    for collisions in c:\n",
    "        a = collisions.pop()\n",
    "        b = collisions.pop()\n",
    "        for labelsets in r:\n",
    "            if labelsets.issuperset({a}):\n",
    "                ra = labelsets\n",
    "            if labelsets.issuperset({b}):\n",
    "                rb = labelsets\n",
    "        if ra.isdisjoint(rb):\n",
    "            ra.update(rb)\n",
    "            r.remove(rb)\n",
    "    \n",
    "    for v in range(0, np.shape(img)[0]):\n",
    "        for u in range(0, np.shape(img)[1]):\n",
    "            if img[v][u] > 1:\n",
    "                for lsets in r:\n",
    "                    if lsets.issuperset({img[v][u]}):\n",
    "                        img[v][u] = min(lsets)\n",
    "    return invert(img)\n",
    "                    "
   ]
  },
  {
   "cell_type": "code",
   "execution_count": 42,
   "metadata": {},
   "outputs": [],
   "source": [
    "reg1 = io.imread('regionen1.png')\n",
    "seqL = sequentialLabeling(reg1)\n",
    "mimg.imsave('reg1.png', seqL, cmap='gray')\n",
    "seqLn4 = sequentialLabeling(reg1, n=4)\n",
    "mimg.imsave('reg1n4.png', seqLn4, cmap='gray')\n",
    "seqLn4maxContrast = discreteContrast(seqLn4)\n",
    "mimg.imsave('reg1n4maxContrast.png', seqLn4maxContrast, cmap='gray')"
   ]
  },
  {
   "cell_type": "code",
   "execution_count": 30,
   "metadata": {},
   "outputs": [],
   "source": [
    "reg2 = io.imread('regionen2.png')\n",
    "seqL2 = sequentialLabeling(reg2)\n",
    "mimg.imsave('reg2.png', seqL2, cmap='gray')\n",
    "seqL2n4 = sequentialLabeling(reg2, n=4)\n",
    "mimg.imsave('reg2n4.png', seqL2n4, cmap='gray')"
   ]
  },
  {
   "cell_type": "code",
   "execution_count": 90,
   "metadata": {},
   "outputs": [],
   "source": [
    "quad = io.imread('quadranten.png')\n",
    "mimg.imsave('quadn8.png', sequentialLabeling(quad), cmap='gray')\n",
    "mimg.imsave('quadn8bc.png', discreteContrast(sequentialLabeling(quad)), cmap='gray')"
   ]
  },
  {
   "cell_type": "markdown",
   "metadata": {},
   "source": [
    "### Original vs seq. lab. N8 vs seq. lab N4 vs seq. lab. N4 + better contrast\n",
    "![orig](regionen1.png)\n",
    "![sl](reg1.png)\n",
    "![sln4](reg1n4.png)\n",
    "![sln4maxCont](reg1n4maxContrast.png)\n",
    "### Original vs seq. lab. N8 vs seq. lab. N4\n",
    "![orig](regionen2.png)\n",
    "![sl](reg2.png)\n",
    "![sln4](reg2n4.png)  \n",
    "\n",
    "![](quadranten.png)\n",
    "![](quadN8.png)\n",
    "![](quadN8bc.png)"
   ]
  }
 ],
 "metadata": {
  "interpreter": {
   "hash": "ad8259fb0131ae414e0fed75b17e89163033ec83dd8a20ff234b9709c1123196"
  },
  "kernelspec": {
   "display_name": "Python 3.9.4 64-bit",
   "language": "python",
   "name": "python3"
  },
  "language_info": {
   "codemirror_mode": {
    "name": "ipython",
    "version": 3
   },
   "file_extension": ".py",
   "mimetype": "text/x-python",
   "name": "python",
   "nbconvert_exporter": "python",
   "pygments_lexer": "ipython3",
   "version": "3.9.4"
  },
  "orig_nbformat": 4
 },
 "nbformat": 4,
 "nbformat_minor": 2
}
