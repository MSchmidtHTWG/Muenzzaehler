{
 "cells": [
  {
   "cell_type": "code",
   "execution_count": 1,
   "metadata": {},
   "outputs": [],
   "source": [
    "from skimage import io\n",
    "import numpy as np\n",
    "import matplotlib.image as mimg\n",
    "import cv2\n",
    "from skimage.color import rgb2gray\n",
    "import sys\n",
    "import time"
   ]
  },
  {
   "cell_type": "code",
   "execution_count": null,
   "metadata": {},
   "outputs": [],
   "source": [
    "def lowContrastToBinary(image):\n",
    "    pass"
   ]
  },
  {
   "cell_type": "code",
   "execution_count": 11,
   "metadata": {},
   "outputs": [
    {
     "name": "stderr",
     "output_type": "stream",
     "text": [
      "Lossy conversion from float64 to uint8. Range [0, 1]. Convert image to uint8 prior to saving to suppress this warning.\n"
     ]
    }
   ],
   "source": [
    "img = io.imread('lowContrastlowGainhighTone/alle0.png')\n",
    "grey = rgb2gray(img)\n",
    "ref = io.imread('lowContrastlowGainhighTone/background0.png')\n",
    "ref_grey = rgb2gray(ref)\n",
    "mingrey = np.min(ref_grey)\n",
    "maxgrey = np.max(ref_grey)\n",
    "binary = np.zeros(np.shape(grey))\n",
    "shape = np.shape(grey)\n",
    "for v in range(0, shape[0]):\n",
    "        for u in range(0, shape[1]):\n",
    "            if grey[v][u] > maxgrey:\n",
    "                binary[v][u] = 1\n",
    "io.imsave('lowCtoB.png', binary)"
   ]
  },
  {
   "cell_type": "code",
   "execution_count": 2,
   "metadata": {},
   "outputs": [],
   "source": [
    "exposure = -4\n",
    "gain = 0\n",
    "brightness = 0\n",
    "contrast = 0\n",
    "tone = 255\n",
    "whitebalance = 0\n",
    "\n",
    "exposure2 = -2\n",
    "gain2 = 20\n",
    "brightness2 = 190\n",
    "contrast2 = 255\n",
    "tone2 = 30\n",
    "whitebalance2 = 8000\n",
    "\n",
    "cap = cv2.VideoCapture(0)\n",
    "if not cap.isOpened():\n",
    "    print('Could not find device.')\n",
    "else:\n",
    "    cap.set(15, exposure)\n",
    "    cap.set(14, gain)\n",
    "    cap.set(10, brightness)\n",
    "    cap.set(11, contrast)\n",
    "    cap.set(12, tone)\n",
    "    cap.set(17, whitebalance)\n",
    "    ret, frame = cap.read()\n",
    "    cv2.imwrite('test4lc.png', frame)\n",
    "    cap.set(15, exposure2)\n",
    "    cap.set(14, gain2)\n",
    "    cap.set(10, brightness2)\n",
    "    cap.set(11, contrast2)\n",
    "    cap.set(12, tone2)\n",
    "    cap.set(17, whitebalance2)\n",
    "    time.sleep(1)\n",
    "    ret, frame = cap.read()\n",
    "    cv2.imwrite('test4hc.png',frame)\n",
    "cap.release()\n",
    "    "
   ]
  },
  {
   "cell_type": "code",
   "execution_count": 23,
   "metadata": {},
   "outputs": [],
   "source": [
    "def discreteContrast(filteredImage):\n",
    "    shape = np.shape(filteredImage)\n",
    "    img = filteredImage.copy()\n",
    "    valueList = np.unique(img)\n",
    "    valueDict = dict()\n",
    "    for i in range(0, len(valueList)):\n",
    "        valueDict.update({valueList[i] : i})\n",
    "    for v in range(shape[0]):\n",
    "        for u in range(shape[1]):\n",
    "            img[v][u] = valueDict.get(filteredImage[v][u])\n",
    "    return img"
   ]
  },
  {
   "cell_type": "code",
   "execution_count": 24,
   "metadata": {},
   "outputs": [
    {
     "data": {
      "text/plain": [
       "True"
      ]
     },
     "execution_count": 24,
     "metadata": {},
     "output_type": "execute_result"
    }
   ],
   "source": [
    "cv2.imwrite('discretelabeledtest.png', discreteContrast(io.imread('labeledtest.png')))"
   ]
  }
 ],
 "metadata": {
  "interpreter": {
   "hash": "ad8259fb0131ae414e0fed75b17e89163033ec83dd8a20ff234b9709c1123196"
  },
  "kernelspec": {
   "display_name": "Python 3.9.4 64-bit",
   "language": "python",
   "name": "python3"
  },
  "language_info": {
   "codemirror_mode": {
    "name": "ipython",
    "version": 3
   },
   "file_extension": ".py",
   "mimetype": "text/x-python",
   "name": "python",
   "nbconvert_exporter": "python",
   "pygments_lexer": "ipython3",
   "version": "3.9.4"
  },
  "orig_nbformat": 4
 },
 "nbformat": 4,
 "nbformat_minor": 2
}
